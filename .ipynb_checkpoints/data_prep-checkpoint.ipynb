{
 "cells": [
  {
   "cell_type": "markdown",
   "metadata": {},
   "source": [
    "### Money Vs. Happiness\n",
    "\n",
    "This notebook is used to explore and prep the data for the Streamlit application used in app.py. In this notebook, I split the sample between records that say they are satisfied with life and records that are not satisfied with life. I attempt to uncover the financial patterns of both groups to see if there is a correlation between life satisfaction and financial status.\n",
    "\n",
    "Ideas:\n",
    "- Q1: General statistics\n",
    "- Q2: financiallly stable people more satisfied with life?\n",
    "- Q3: financially conscious people more satisfied with life?\n",
    "- Q4: financially knowledgable people are more satisfied with life?"
   ]
  },
  {
   "cell_type": "code",
   "execution_count": 101,
   "metadata": {},
   "outputs": [],
   "source": [
    "import numpy as np\n",
    "import pandas as pd\n",
    "import matplotlib.pyplot as plt\n",
    "from matplotlib.pyplot import figure"
   ]
  },
  {
   "cell_type": "markdown",
   "metadata": {},
   "source": [
    "<hr>\n",
    "\n",
    "### Load the Data\n",
    "\n",
    "Reference: [National Consumer Financial Well-Being](https://www.consumerfinance.gov/data-research/financial-well-being-survey-data/)  \n",
    "Score Mapping: [Data Mappings](https://files.consumerfinance.gov/f/documents/NFWBS_PUF_2016_read_in_PY27.py)"
   ]
  },
  {
   "cell_type": "code",
   "execution_count": 102,
   "metadata": {},
   "outputs": [],
   "source": [
    "data = pd.read_csv(\"resources/cfwb.csv\")"
   ]
  },
  {
   "cell_type": "code",
   "execution_count": 103,
   "metadata": {},
   "outputs": [
    {
     "data": {
      "text/html": [
       "<div>\n",
       "<style scoped>\n",
       "    .dataframe tbody tr th:only-of-type {\n",
       "        vertical-align: middle;\n",
       "    }\n",
       "\n",
       "    .dataframe tbody tr th {\n",
       "        vertical-align: top;\n",
       "    }\n",
       "\n",
       "    .dataframe thead th {\n",
       "        text-align: right;\n",
       "    }\n",
       "</style>\n",
       "<table border=\"1\" class=\"dataframe\">\n",
       "  <thead>\n",
       "    <tr style=\"text-align: right;\">\n",
       "      <th></th>\n",
       "      <th>PUF_ID</th>\n",
       "      <th>sample</th>\n",
       "      <th>fpl</th>\n",
       "      <th>SWB_1</th>\n",
       "      <th>SWB_2</th>\n",
       "      <th>SWB_3</th>\n",
       "      <th>FWBscore</th>\n",
       "      <th>FWB1_1</th>\n",
       "      <th>FWB1_2</th>\n",
       "      <th>FWB1_3</th>\n",
       "      <th>...</th>\n",
       "      <th>PPMSACAT</th>\n",
       "      <th>PPREG4</th>\n",
       "      <th>PPREG9</th>\n",
       "      <th>PPT01</th>\n",
       "      <th>PPT25</th>\n",
       "      <th>PPT612</th>\n",
       "      <th>PPT1317</th>\n",
       "      <th>PPT18OV</th>\n",
       "      <th>PCTLT200FPL</th>\n",
       "      <th>finalwt</th>\n",
       "    </tr>\n",
       "  </thead>\n",
       "  <tbody>\n",
       "    <tr>\n",
       "      <th>0</th>\n",
       "      <td>10350</td>\n",
       "      <td>2</td>\n",
       "      <td>3</td>\n",
       "      <td>5</td>\n",
       "      <td>5</td>\n",
       "      <td>6</td>\n",
       "      <td>55</td>\n",
       "      <td>3</td>\n",
       "      <td>3</td>\n",
       "      <td>3</td>\n",
       "      <td>...</td>\n",
       "      <td>1</td>\n",
       "      <td>4</td>\n",
       "      <td>8</td>\n",
       "      <td>0</td>\n",
       "      <td>0</td>\n",
       "      <td>0</td>\n",
       "      <td>0</td>\n",
       "      <td>1</td>\n",
       "      <td>0</td>\n",
       "      <td>0.367292</td>\n",
       "    </tr>\n",
       "    <tr>\n",
       "      <th>1</th>\n",
       "      <td>7740</td>\n",
       "      <td>1</td>\n",
       "      <td>3</td>\n",
       "      <td>6</td>\n",
       "      <td>6</td>\n",
       "      <td>6</td>\n",
       "      <td>51</td>\n",
       "      <td>2</td>\n",
       "      <td>2</td>\n",
       "      <td>3</td>\n",
       "      <td>...</td>\n",
       "      <td>1</td>\n",
       "      <td>2</td>\n",
       "      <td>3</td>\n",
       "      <td>0</td>\n",
       "      <td>0</td>\n",
       "      <td>0</td>\n",
       "      <td>0</td>\n",
       "      <td>2</td>\n",
       "      <td>0</td>\n",
       "      <td>1.327561</td>\n",
       "    </tr>\n",
       "    <tr>\n",
       "      <th>2</th>\n",
       "      <td>13699</td>\n",
       "      <td>1</td>\n",
       "      <td>3</td>\n",
       "      <td>4</td>\n",
       "      <td>3</td>\n",
       "      <td>4</td>\n",
       "      <td>49</td>\n",
       "      <td>3</td>\n",
       "      <td>3</td>\n",
       "      <td>3</td>\n",
       "      <td>...</td>\n",
       "      <td>1</td>\n",
       "      <td>4</td>\n",
       "      <td>9</td>\n",
       "      <td>0</td>\n",
       "      <td>0</td>\n",
       "      <td>0</td>\n",
       "      <td>1</td>\n",
       "      <td>2</td>\n",
       "      <td>1</td>\n",
       "      <td>0.835156</td>\n",
       "    </tr>\n",
       "    <tr>\n",
       "      <th>3</th>\n",
       "      <td>7267</td>\n",
       "      <td>1</td>\n",
       "      <td>3</td>\n",
       "      <td>6</td>\n",
       "      <td>6</td>\n",
       "      <td>6</td>\n",
       "      <td>49</td>\n",
       "      <td>3</td>\n",
       "      <td>3</td>\n",
       "      <td>3</td>\n",
       "      <td>...</td>\n",
       "      <td>1</td>\n",
       "      <td>3</td>\n",
       "      <td>7</td>\n",
       "      <td>0</td>\n",
       "      <td>0</td>\n",
       "      <td>0</td>\n",
       "      <td>0</td>\n",
       "      <td>1</td>\n",
       "      <td>0</td>\n",
       "      <td>1.410871</td>\n",
       "    </tr>\n",
       "    <tr>\n",
       "      <th>4</th>\n",
       "      <td>7375</td>\n",
       "      <td>1</td>\n",
       "      <td>3</td>\n",
       "      <td>4</td>\n",
       "      <td>4</td>\n",
       "      <td>4</td>\n",
       "      <td>49</td>\n",
       "      <td>3</td>\n",
       "      <td>3</td>\n",
       "      <td>3</td>\n",
       "      <td>...</td>\n",
       "      <td>1</td>\n",
       "      <td>2</td>\n",
       "      <td>4</td>\n",
       "      <td>0</td>\n",
       "      <td>0</td>\n",
       "      <td>1</td>\n",
       "      <td>0</td>\n",
       "      <td>4</td>\n",
       "      <td>1</td>\n",
       "      <td>4.260668</td>\n",
       "    </tr>\n",
       "    <tr>\n",
       "      <th>5</th>\n",
       "      <td>10910</td>\n",
       "      <td>1</td>\n",
       "      <td>3</td>\n",
       "      <td>5</td>\n",
       "      <td>7</td>\n",
       "      <td>5</td>\n",
       "      <td>67</td>\n",
       "      <td>5</td>\n",
       "      <td>1</td>\n",
       "      <td>1</td>\n",
       "      <td>...</td>\n",
       "      <td>1</td>\n",
       "      <td>2</td>\n",
       "      <td>3</td>\n",
       "      <td>0</td>\n",
       "      <td>0</td>\n",
       "      <td>0</td>\n",
       "      <td>0</td>\n",
       "      <td>2</td>\n",
       "      <td>0</td>\n",
       "      <td>0.760061</td>\n",
       "    </tr>\n",
       "    <tr>\n",
       "      <th>6</th>\n",
       "      <td>11079</td>\n",
       "      <td>1</td>\n",
       "      <td>3</td>\n",
       "      <td>5</td>\n",
       "      <td>4</td>\n",
       "      <td>7</td>\n",
       "      <td>51</td>\n",
       "      <td>1</td>\n",
       "      <td>3</td>\n",
       "      <td>2</td>\n",
       "      <td>...</td>\n",
       "      <td>1</td>\n",
       "      <td>2</td>\n",
       "      <td>4</td>\n",
       "      <td>0</td>\n",
       "      <td>0</td>\n",
       "      <td>1</td>\n",
       "      <td>1</td>\n",
       "      <td>3</td>\n",
       "      <td>0</td>\n",
       "      <td>1.370522</td>\n",
       "    </tr>\n",
       "    <tr>\n",
       "      <th>7</th>\n",
       "      <td>7741</td>\n",
       "      <td>1</td>\n",
       "      <td>3</td>\n",
       "      <td>2</td>\n",
       "      <td>2</td>\n",
       "      <td>2</td>\n",
       "      <td>47</td>\n",
       "      <td>1</td>\n",
       "      <td>2</td>\n",
       "      <td>4</td>\n",
       "      <td>...</td>\n",
       "      <td>1</td>\n",
       "      <td>2</td>\n",
       "      <td>4</td>\n",
       "      <td>0</td>\n",
       "      <td>0</td>\n",
       "      <td>0</td>\n",
       "      <td>0</td>\n",
       "      <td>3</td>\n",
       "      <td>0</td>\n",
       "      <td>1.193365</td>\n",
       "    </tr>\n",
       "    <tr>\n",
       "      <th>8</th>\n",
       "      <td>8303</td>\n",
       "      <td>1</td>\n",
       "      <td>3</td>\n",
       "      <td>7</td>\n",
       "      <td>7</td>\n",
       "      <td>7</td>\n",
       "      <td>43</td>\n",
       "      <td>4</td>\n",
       "      <td>5</td>\n",
       "      <td>2</td>\n",
       "      <td>...</td>\n",
       "      <td>1</td>\n",
       "      <td>3</td>\n",
       "      <td>7</td>\n",
       "      <td>0</td>\n",
       "      <td>0</td>\n",
       "      <td>0</td>\n",
       "      <td>1</td>\n",
       "      <td>3</td>\n",
       "      <td>0</td>\n",
       "      <td>2.497838</td>\n",
       "    </tr>\n",
       "    <tr>\n",
       "      <th>9</th>\n",
       "      <td>9688</td>\n",
       "      <td>1</td>\n",
       "      <td>3</td>\n",
       "      <td>4</td>\n",
       "      <td>5</td>\n",
       "      <td>4</td>\n",
       "      <td>58</td>\n",
       "      <td>3</td>\n",
       "      <td>3</td>\n",
       "      <td>2</td>\n",
       "      <td>...</td>\n",
       "      <td>1</td>\n",
       "      <td>1</td>\n",
       "      <td>2</td>\n",
       "      <td>0</td>\n",
       "      <td>0</td>\n",
       "      <td>0</td>\n",
       "      <td>0</td>\n",
       "      <td>3</td>\n",
       "      <td>0</td>\n",
       "      <td>1.266602</td>\n",
       "    </tr>\n",
       "  </tbody>\n",
       "</table>\n",
       "<p>10 rows × 217 columns</p>\n",
       "</div>"
      ],
      "text/plain": [
       "   PUF_ID  sample  fpl  SWB_1  SWB_2  SWB_3  FWBscore  FWB1_1  FWB1_2  FWB1_3  \\\n",
       "0   10350       2    3      5      5      6        55       3       3       3   \n",
       "1    7740       1    3      6      6      6        51       2       2       3   \n",
       "2   13699       1    3      4      3      4        49       3       3       3   \n",
       "3    7267       1    3      6      6      6        49       3       3       3   \n",
       "4    7375       1    3      4      4      4        49       3       3       3   \n",
       "5   10910       1    3      5      7      5        67       5       1       1   \n",
       "6   11079       1    3      5      4      7        51       1       3       2   \n",
       "7    7741       1    3      2      2      2        47       1       2       4   \n",
       "8    8303       1    3      7      7      7        43       4       5       2   \n",
       "9    9688       1    3      4      5      4        58       3       3       2   \n",
       "\n",
       "   ...  PPMSACAT  PPREG4  PPREG9  PPT01  PPT25  PPT612  PPT1317  PPT18OV  \\\n",
       "0  ...         1       4       8      0      0       0        0        1   \n",
       "1  ...         1       2       3      0      0       0        0        2   \n",
       "2  ...         1       4       9      0      0       0        1        2   \n",
       "3  ...         1       3       7      0      0       0        0        1   \n",
       "4  ...         1       2       4      0      0       1        0        4   \n",
       "5  ...         1       2       3      0      0       0        0        2   \n",
       "6  ...         1       2       4      0      0       1        1        3   \n",
       "7  ...         1       2       4      0      0       0        0        3   \n",
       "8  ...         1       3       7      0      0       0        1        3   \n",
       "9  ...         1       1       2      0      0       0        0        3   \n",
       "\n",
       "   PCTLT200FPL   finalwt  \n",
       "0            0  0.367292  \n",
       "1            0  1.327561  \n",
       "2            1  0.835156  \n",
       "3            0  1.410871  \n",
       "4            1  4.260668  \n",
       "5            0  0.760061  \n",
       "6            0  1.370522  \n",
       "7            0  1.193365  \n",
       "8            0  2.497838  \n",
       "9            0  1.266602  \n",
       "\n",
       "[10 rows x 217 columns]"
      ]
     },
     "execution_count": 103,
     "metadata": {},
     "output_type": "execute_result"
    }
   ],
   "source": [
    "data.head(10)"
   ]
  },
  {
   "cell_type": "code",
   "execution_count": 104,
   "metadata": {},
   "outputs": [
    {
     "name": "stdout",
     "output_type": "stream",
     "text": [
      "6394\n",
      "['PUF_ID' 'sample' 'fpl' 'SWB_1' 'SWB_2' 'SWB_3' 'FWBscore' 'FWB1_1'\n",
      " 'FWB1_2' 'FWB1_3' 'FWB1_4' 'FWB1_5' 'FWB1_6' 'FWB2_1' 'FWB2_2' 'FWB2_3'\n",
      " 'FWB2_4' 'FSscore' 'FS1_1' 'FS1_2' 'FS1_3' 'FS1_4' 'FS1_5' 'FS1_6'\n",
      " 'FS1_7' 'FS2_1' 'FS2_2' 'FS2_3' 'SUBKNOWL1' 'ACT1_1' 'ACT1_2' 'FINGOALS'\n",
      " 'PROPPLAN_1' 'PROPPLAN_2' 'PROPPLAN_3' 'PROPPLAN_4' 'MANAGE1_1'\n",
      " 'MANAGE1_2' 'MANAGE1_3' 'MANAGE1_4' 'SAVEHABIT' 'FRUGALITY' 'AUTOMATED_1'\n",
      " 'AUTOMATED_2' 'ASK1_1' 'ASK1_2' 'SUBNUMERACY2' 'SUBNUMERACY1'\n",
      " 'CHANGEABLE' 'GOALCONF' 'LMscore' 'FINKNOWL1' 'FINKNOWL2' 'FINKNOWL3'\n",
      " 'FK1correct' 'FK2correct' 'FK3correct' 'KHscore' 'KHKNOWL1' 'KHKNOWL2'\n",
      " 'KHKNOWL3' 'KHKNOWL4' 'KHKNOWL5' 'KHKNOWL6' 'KHKNOWL7' 'KHKNOWL8'\n",
      " 'KHKNOWL9' 'KH1correct' 'KH2correct' 'KH3correct' 'KH4correct'\n",
      " 'KH5correct' 'KH6correct' 'KH7correct' 'KH8correct' 'KH9correct'\n",
      " 'ENDSMEET' 'HOUSING' 'LIVINGARRANGEMENT' 'HOUSERANGES' 'IMPUTATION_FLAG'\n",
      " 'VALUERANGES' 'MORTGAGE' 'SAVINGSRANGES' 'PRODHAVE_1' 'PRODHAVE_2'\n",
      " 'PRODHAVE_3' 'PRODHAVE_4' 'PRODHAVE_5' 'PRODHAVE_6' 'PRODHAVE_7'\n",
      " 'PRODHAVE_8' 'PRODHAVE_9' 'PRODUSE_1' 'PRODUSE_2' 'PRODUSE_3' 'PRODUSE_4'\n",
      " 'PRODUSE_5' 'PRODUSE_6' 'CONSPROTECT1' 'CONSPROTECT2' 'CONSPROTECT3'\n",
      " 'EARNERS' 'VOLATILITY' 'SNAP' 'MATHARDSHIP_1' 'MATHARDSHIP_2'\n",
      " 'MATHARDSHIP_3' 'MATHARDSHIP_4' 'MATHARDSHIP_5' 'MATHARDSHIP_6' 'COLLECT'\n",
      " 'REJECTED_1' 'REJECTED_2' 'ABSORBSHOCK' 'BENEFITS_1' 'BENEFITS_2'\n",
      " 'BENEFITS_3' 'BENEFITS_4' 'BENEFITS_5' 'FRAUD2' 'COVERCOSTS' 'BORROW_1'\n",
      " 'BORROW_2' 'SHOCKS_1' 'SHOCKS_2' 'SHOCKS_3' 'SHOCKS_4' 'SHOCKS_5'\n",
      " 'SHOCKS_6' 'SHOCKS_7' 'SHOCKS_8' 'SHOCKS_9' 'SHOCKS_10' 'SHOCKS_11'\n",
      " 'SHOCKS_12' 'MANAGE2' 'PAIDHELP' 'HSLOC' 'PAREDUC' 'FINSOC2_1'\n",
      " 'FINSOC2_2' 'FINSOC2_3' 'FINSOC2_4' 'FINSOC2_5' 'FINSOC2_6' 'FINSOC2_7'\n",
      " 'OBJNUMERACY1' 'ON2correct' 'ON1correct' 'MATERIALISM_1' 'MATERIALISM_2'\n",
      " 'MATERIALISM_3' 'CONNECT' 'HEALTH' 'SCFHORIZON' 'DISCOUNT' 'MEMLOSS'\n",
      " 'DISTRESS' 'SELFCONTROL_1' 'SELFCONTROL_2' 'SELFCONTROL_3' 'OUTLOOK_1'\n",
      " 'OUTLOOK_2' 'INTERCONNECTIONS_1' 'INTERCONNECTIONS_2'\n",
      " 'INTERCONNECTIONS_3' 'INTERCONNECTIONS_4' 'INTERCONNECTIONS_5'\n",
      " 'INTERCONNECTIONS_6' 'INTERCONNECTIONS_7' 'INTERCONNECTIONS_8'\n",
      " 'INTERCONNECTIONS_9' 'INTERCONNECTIONS_10' 'PEM' 'HOUSESAT' 'SOCSEC1'\n",
      " 'SOCSEC2' 'SOCSEC3' 'LIFEEXPECT' 'HHEDUC' 'KIDS_NoChildren' 'KIDS_1'\n",
      " 'KIDS_2' 'KIDS_3' 'KIDS_4' 'EMPLOY' 'EMPLOY1_1' 'EMPLOY1_2' 'EMPLOY1_3'\n",
      " 'EMPLOY1_4' 'EMPLOY1_5' 'EMPLOY1_6' 'EMPLOY1_7' 'EMPLOY1_8' 'EMPLOY1_9'\n",
      " 'RETIRE' 'MILITARY' 'Military_Status' 'agecat' 'generation' 'PPEDUC'\n",
      " 'PPETHM' 'PPGENDER' 'PPHHSIZE' 'PPINCIMP' 'PPMARIT' 'PPMSACAT' 'PPREG4'\n",
      " 'PPREG9' 'PPT01' 'PPT25' 'PPT612' 'PPT1317' 'PPT18OV' 'PCTLT200FPL'\n",
      " 'finalwt']\n"
     ]
    }
   ],
   "source": [
    "print(len(data))\n",
    "print(data.columns.values)"
   ]
  },
  {
   "cell_type": "code",
   "execution_count": 105,
   "metadata": {},
   "outputs": [],
   "source": [
    "questions = {\n",
    "    \"Are you satisfied with your life?\": {\n",
    "        \"SWB_1\" : \"I am satisfied with my life\"\n",
    "    },\n",
    "    \"How would you rate your financial well-being?\": {\n",
    "        \"FWBscore\": \"Financial well-being scale score\",\n",
    "        \"ENDSMEET\": \"Difficulty of covering monthly expenses and bills\"\n",
    "    },\n",
    "    \"How would you rate your ability to recognize financial events?\": {\n",
    "        \"FSscore\": \"Financial skill scale score\"\n",
    "    },\n",
    "    \"How would you rate your financial knowledge\": {\n",
    "        \"LMscore\": \"Lusardi and Mitchell financial knowledge scale score\"\n",
    "    }\n",
    "}"
   ]
  },
  {
   "cell_type": "markdown",
   "metadata": {},
   "source": [
    "### Why these metrics?\n",
    "\n",
    "<strong>SWB_1</strong>: rating of this person's overall satisfaction with life. 1 (strongly disagree), 7 (strongly agree).  \n",
    "<strong>FWBscore</strong>: out of 100, total of 10 questions rated 1-5, not at all - completely:\n",
    "- Can you afford an unexpected expense\n",
    "- Can you buy the things you want in life\n",
    "- Can you enjoy life because of the way you manage money\n",
    "- Are you worried your money wont last  \n",
    "\n",
    "<strong>ENDSMEET</strong>: rates difficulty to make ends meet. 1 (not difficult) 3 (very difficult)  \n",
    "<strong>FSscore</strong>: rates confidence in financial situations. out of 100, total of 10 questions rated 1-5, not at all - completely\n",
    "- Can you get yourself through your financial goals\n",
    "- Can you make complex financial decisions\n",
    "- Can you make good financial decisions\n",
    "- Can you control yourself from spending on luxuries\n",
    "- Can you save when you need to\n",
    "\n",
    "<strong>LMscore</strong>: lusardi and mitchell financial literacy questions. out of 3\n",
    "- question about savings interest rate\n",
    "- interest rates during inflation\n",
    "- question about stocks"
   ]
  },
  {
   "cell_type": "markdown",
   "metadata": {},
   "source": [
    "<hr>\n",
    "\n",
    "### Data Preprocessing\n",
    "\n",
    "- Create new data frame using only deisred objectives"
   ]
  },
  {
   "cell_type": "code",
   "execution_count": 106,
   "metadata": {},
   "outputs": [],
   "source": [
    "original_data = data\n",
    "data = data[['SWB_1', 'FWBscore', 'ENDSMEET', 'FSscore', 'LMscore']]"
   ]
  },
  {
   "cell_type": "code",
   "execution_count": 107,
   "metadata": {},
   "outputs": [
    {
     "data": {
      "text/html": [
       "<div>\n",
       "<style scoped>\n",
       "    .dataframe tbody tr th:only-of-type {\n",
       "        vertical-align: middle;\n",
       "    }\n",
       "\n",
       "    .dataframe tbody tr th {\n",
       "        vertical-align: top;\n",
       "    }\n",
       "\n",
       "    .dataframe thead th {\n",
       "        text-align: right;\n",
       "    }\n",
       "</style>\n",
       "<table border=\"1\" class=\"dataframe\">\n",
       "  <thead>\n",
       "    <tr style=\"text-align: right;\">\n",
       "      <th></th>\n",
       "      <th>SWB_1</th>\n",
       "      <th>FWBscore</th>\n",
       "      <th>ENDSMEET</th>\n",
       "      <th>FSscore</th>\n",
       "      <th>LMscore</th>\n",
       "    </tr>\n",
       "  </thead>\n",
       "  <tbody>\n",
       "    <tr>\n",
       "      <th>0</th>\n",
       "      <td>5</td>\n",
       "      <td>55</td>\n",
       "      <td>2</td>\n",
       "      <td>44</td>\n",
       "      <td>3</td>\n",
       "    </tr>\n",
       "    <tr>\n",
       "      <th>1</th>\n",
       "      <td>6</td>\n",
       "      <td>51</td>\n",
       "      <td>2</td>\n",
       "      <td>43</td>\n",
       "      <td>3</td>\n",
       "    </tr>\n",
       "    <tr>\n",
       "      <th>2</th>\n",
       "      <td>4</td>\n",
       "      <td>49</td>\n",
       "      <td>1</td>\n",
       "      <td>42</td>\n",
       "      <td>3</td>\n",
       "    </tr>\n",
       "    <tr>\n",
       "      <th>3</th>\n",
       "      <td>6</td>\n",
       "      <td>49</td>\n",
       "      <td>-1</td>\n",
       "      <td>42</td>\n",
       "      <td>2</td>\n",
       "    </tr>\n",
       "    <tr>\n",
       "      <th>4</th>\n",
       "      <td>4</td>\n",
       "      <td>49</td>\n",
       "      <td>2</td>\n",
       "      <td>42</td>\n",
       "      <td>1</td>\n",
       "    </tr>\n",
       "    <tr>\n",
       "      <th>5</th>\n",
       "      <td>5</td>\n",
       "      <td>67</td>\n",
       "      <td>1</td>\n",
       "      <td>57</td>\n",
       "      <td>3</td>\n",
       "    </tr>\n",
       "    <tr>\n",
       "      <th>6</th>\n",
       "      <td>5</td>\n",
       "      <td>51</td>\n",
       "      <td>2</td>\n",
       "      <td>54</td>\n",
       "      <td>3</td>\n",
       "    </tr>\n",
       "    <tr>\n",
       "      <th>7</th>\n",
       "      <td>2</td>\n",
       "      <td>47</td>\n",
       "      <td>2</td>\n",
       "      <td>35</td>\n",
       "      <td>3</td>\n",
       "    </tr>\n",
       "    <tr>\n",
       "      <th>8</th>\n",
       "      <td>7</td>\n",
       "      <td>43</td>\n",
       "      <td>1</td>\n",
       "      <td>58</td>\n",
       "      <td>2</td>\n",
       "    </tr>\n",
       "    <tr>\n",
       "      <th>9</th>\n",
       "      <td>4</td>\n",
       "      <td>58</td>\n",
       "      <td>1</td>\n",
       "      <td>42</td>\n",
       "      <td>3</td>\n",
       "    </tr>\n",
       "  </tbody>\n",
       "</table>\n",
       "</div>"
      ],
      "text/plain": [
       "   SWB_1  FWBscore  ENDSMEET  FSscore  LMscore\n",
       "0      5        55         2       44        3\n",
       "1      6        51         2       43        3\n",
       "2      4        49         1       42        3\n",
       "3      6        49        -1       42        2\n",
       "4      4        49         2       42        1\n",
       "5      5        67         1       57        3\n",
       "6      5        51         2       54        3\n",
       "7      2        47         2       35        3\n",
       "8      7        43         1       58        2\n",
       "9      4        58         1       42        3"
      ]
     },
     "execution_count": 107,
     "metadata": {},
     "output_type": "execute_result"
    }
   ],
   "source": [
    "data.head(10)"
   ]
  },
  {
   "cell_type": "markdown",
   "metadata": {},
   "source": [
    "<hr>\n",
    "\n",
    "### Overview of Life Satisfaction"
   ]
  },
  {
   "cell_type": "code",
   "execution_count": 108,
   "metadata": {},
   "outputs": [
    {
     "data": {
      "text/html": [
       "<div>\n",
       "<style scoped>\n",
       "    .dataframe tbody tr th:only-of-type {\n",
       "        vertical-align: middle;\n",
       "    }\n",
       "\n",
       "    .dataframe tbody tr th {\n",
       "        vertical-align: top;\n",
       "    }\n",
       "\n",
       "    .dataframe thead th {\n",
       "        text-align: right;\n",
       "    }\n",
       "</style>\n",
       "<table border=\"1\" class=\"dataframe\">\n",
       "  <thead>\n",
       "    <tr style=\"text-align: right;\">\n",
       "      <th></th>\n",
       "      <th>SWB_1</th>\n",
       "      <th>FWBscore</th>\n",
       "      <th>ENDSMEET</th>\n",
       "      <th>FSscore</th>\n",
       "      <th>LMscore</th>\n",
       "    </tr>\n",
       "  </thead>\n",
       "  <tbody>\n",
       "    <tr>\n",
       "      <th>count</th>\n",
       "      <td>6394.000000</td>\n",
       "      <td>6394.000000</td>\n",
       "      <td>6394.000000</td>\n",
       "      <td>6394.000000</td>\n",
       "      <td>6394.000000</td>\n",
       "    </tr>\n",
       "    <tr>\n",
       "      <th>mean</th>\n",
       "      <td>5.353769</td>\n",
       "      <td>56.034094</td>\n",
       "      <td>1.444948</td>\n",
       "      <td>50.719112</td>\n",
       "      <td>2.506256</td>\n",
       "    </tr>\n",
       "    <tr>\n",
       "      <th>std</th>\n",
       "      <td>1.500913</td>\n",
       "      <td>14.154676</td>\n",
       "      <td>0.661932</td>\n",
       "      <td>12.656921</td>\n",
       "      <td>0.755215</td>\n",
       "    </tr>\n",
       "    <tr>\n",
       "      <th>min</th>\n",
       "      <td>-4.000000</td>\n",
       "      <td>-4.000000</td>\n",
       "      <td>-1.000000</td>\n",
       "      <td>-1.000000</td>\n",
       "      <td>0.000000</td>\n",
       "    </tr>\n",
       "    <tr>\n",
       "      <th>25%</th>\n",
       "      <td>5.000000</td>\n",
       "      <td>48.000000</td>\n",
       "      <td>1.000000</td>\n",
       "      <td>42.000000</td>\n",
       "      <td>2.000000</td>\n",
       "    </tr>\n",
       "    <tr>\n",
       "      <th>50%</th>\n",
       "      <td>6.000000</td>\n",
       "      <td>56.000000</td>\n",
       "      <td>1.000000</td>\n",
       "      <td>50.000000</td>\n",
       "      <td>3.000000</td>\n",
       "    </tr>\n",
       "    <tr>\n",
       "      <th>75%</th>\n",
       "      <td>6.000000</td>\n",
       "      <td>65.000000</td>\n",
       "      <td>2.000000</td>\n",
       "      <td>57.000000</td>\n",
       "      <td>3.000000</td>\n",
       "    </tr>\n",
       "    <tr>\n",
       "      <th>max</th>\n",
       "      <td>7.000000</td>\n",
       "      <td>95.000000</td>\n",
       "      <td>3.000000</td>\n",
       "      <td>85.000000</td>\n",
       "      <td>3.000000</td>\n",
       "    </tr>\n",
       "  </tbody>\n",
       "</table>\n",
       "</div>"
      ],
      "text/plain": [
       "             SWB_1     FWBscore     ENDSMEET      FSscore      LMscore\n",
       "count  6394.000000  6394.000000  6394.000000  6394.000000  6394.000000\n",
       "mean      5.353769    56.034094     1.444948    50.719112     2.506256\n",
       "std       1.500913    14.154676     0.661932    12.656921     0.755215\n",
       "min      -4.000000    -4.000000    -1.000000    -1.000000     0.000000\n",
       "25%       5.000000    48.000000     1.000000    42.000000     2.000000\n",
       "50%       6.000000    56.000000     1.000000    50.000000     3.000000\n",
       "75%       6.000000    65.000000     2.000000    57.000000     3.000000\n",
       "max       7.000000    95.000000     3.000000    85.000000     3.000000"
      ]
     },
     "execution_count": 108,
     "metadata": {},
     "output_type": "execute_result"
    }
   ],
   "source": [
    "data.describe()"
   ]
  },
  {
   "cell_type": "markdown",
   "metadata": {},
   "source": [
    "Key takeaways:\n",
    "- there is approximately 6,400 records in this sample\n",
    "- the average life satisfaction score is 5.4 (Slightly Agree)\n",
    "- financial Well Being score average is 56%\n",
    "- difficulty to make ends meet average is 1.45 (slightly difficult)\n",
    "- financial skills score is 50.1% average\n",
    "- lusardi and mitchell financial literacy questions average is around 2.5"
   ]
  },
  {
   "cell_type": "markdown",
   "metadata": {},
   "source": [
    "<hr>\n",
    "\n",
    "### Satisfaction Scores"
   ]
  },
  {
   "cell_type": "code",
   "execution_count": 109,
   "metadata": {},
   "outputs": [
    {
     "name": "stdout",
     "output_type": "stream",
     "text": [
      "{6: 1926, 7: 1535, 5: 1458, 4: 803, 3: 335, 1: 154, 2: 152, -1: 30, -4: 1}\n"
     ]
    }
   ],
   "source": [
    "# dictionary of satisfaction ratings\n",
    "satisfaction_ratings = data['SWB_1'].value_counts().to_dict()\n",
    "print(satisfaction_ratings)"
   ]
  },
  {
   "cell_type": "code",
   "execution_count": 110,
   "metadata": {},
   "outputs": [
    {
     "name": "stdout",
     "output_type": "stream",
     "text": [
      "{'6': 1926, '7': 1535, '5': 1458, '4': 803, '3': 335, '1': 154, '2': 152, '-1': 30, '-4': 1}\n"
     ]
    }
   ],
   "source": [
    "# convert all keys to strings\n",
    "satisfaction_ratings = {str(key): value for key, value in satisfaction_ratings.items()}\n",
    "print(satisfaction_ratings)"
   ]
  },
  {
   "cell_type": "code",
   "execution_count": 111,
   "metadata": {},
   "outputs": [
    {
     "data": {
      "image/png": "[encoded data removed]",
      "text/plain": [
       "<Figure size 1080x720 with 1 Axes>"
      ]
     },
     "metadata": {},
     "output_type": "display_data"
    }
   ],
   "source": [
    "labels = ' ', ' ', 'Slightly Disagree', 'Neutral', 'Slightly Agree', 'Agree', 'Strongly Agree'\n",
    "sizes = [satisfaction_ratings['1'], satisfaction_ratings['2'], satisfaction_ratings['3'],\n",
    "        satisfaction_ratings['4'], satisfaction_ratings['5'], satisfaction_ratings['6'], satisfaction_ratings['7']]\n",
    "explode = (0,0,0,0,0,0.15,0)\n",
    "fig, ax = plt.subplots(figsize =(15, 10))\n",
    "colors = ['bisque','burlywood','goldenrod','limegreen','slategray','skyblue','royalblue']\n",
    "ax.pie(sizes, explode=explode, labels=labels, autopct='%1.1f%%', colors=colors, shadow=True, startangle=90)\n",
    "ax.set_title('\"I am satisfied with life\"', fontsize=25)\n",
    "ax.axis('equal')\n",
    "plt.rcParams.update({'font.size': 14})\n",
    "plt.tight_layout()\n",
    "plt.show()"
   ]
  },
  {
   "cell_type": "markdown",
   "metadata": {},
   "source": [
    "### Financial Well-Being Scores vs Satisfaction"
   ]
  },
  {
   "cell_type": "code",
   "execution_count": 112,
   "metadata": {},
   "outputs": [
    {
     "name": "stdout",
     "output_type": "stream",
     "text": [
      "[39.61038961038961, 43.69078947368421, 43.55223880597015, 53.34636488340192, 60.00155763239876, 63.857980456026056]\n"
     ]
    }
   ],
   "source": [
    "average_fwb_1 = data.loc[data['SWB_1'] == 1]['FWBscore'].mean()\n",
    "average_fwb_2 = data.loc[data['SWB_1'] == 2]['FWBscore'].mean()\n",
    "average_fwb_3 = data.loc[data['SWB_1'] == 3]['FWBscore'].mean()\n",
    "average_fwb_5 = data.loc[data['SWB_1'] == 5]['FWBscore'].mean()\n",
    "average_fwb_6 = data.loc[data['SWB_1'] == 6]['FWBscore'].mean()\n",
    "average_fwb_7 = data.loc[data['SWB_1'] == 7]['FWBscore'].mean()\n",
    "fwb_scores = [average_fwb_1, average_fwb_2, average_fwb_3, average_fwb_5, average_fwb_6, average_fwb_7]\n",
    "print(fwb_scores)"
   ]
  },
  {
   "cell_type": "markdown",
   "metadata": {},
   "source": [
    "### Financial Consciousness vs. Life Satisfaction"
   ]
  },
  {
   "cell_type": "code",
   "execution_count": 113,
   "metadata": {},
   "outputs": [
    {
     "name": "stdout",
     "output_type": "stream",
     "text": [
      "[43.246753246753244, 45.13815789473684, 42.79402985074627, 48.41632373113855, 51.84527518172378, 57.82540716612378]\n"
     ]
    }
   ],
   "source": [
    "fs_score_1 = data.loc[data['SWB_1'] == 1]['FSscore'].mean()\n",
    "fs_score_2 = data.loc[data['SWB_1'] == 2]['FSscore'].mean()\n",
    "fs_score_3 = data.loc[data['SWB_1'] == 3]['FSscore'].mean()\n",
    "fs_score_5 = data.loc[data['SWB_1'] == 5]['FSscore'].mean()\n",
    "fs_score_6 = data.loc[data['SWB_1'] == 6]['FSscore'].mean()\n",
    "fs_score_7 = data.loc[data['SWB_1'] == 7]['FSscore'].mean()\n",
    "fs_scores = [fs_score_1, fs_score_2, fs_score_3, fs_score_5, fs_score_6, fs_score_7]\n",
    "print(fs_scores)"
   ]
  },
  {
   "cell_type": "markdown",
   "metadata": {},
   "source": [
    "### Lusardi and Mitchell Financial Literacy vs. Life Satisfaction"
   ]
  },
  {
   "cell_type": "code",
   "execution_count": 114,
   "metadata": {},
   "outputs": [
    {
     "name": "stdout",
     "output_type": "stream",
     "text": [
      "[2.1103896103896105, 2.401315789473684, 2.388059701492537, 2.5521262002743486, 2.649532710280374, 2.44885993485342]\n"
     ]
    }
   ],
   "source": [
    "lm_score_1 = data.loc[data['SWB_1'] == 1]['LMscore'].mean()\n",
    "lm_score_2 = data.loc[data['SWB_1'] == 2]['LMscore'].mean()\n",
    "lm_score_3 = data.loc[data['SWB_1'] == 3]['LMscore'].mean()\n",
    "lm_score_5 = data.loc[data['SWB_1'] == 5]['LMscore'].mean()\n",
    "lm_score_6 = data.loc[data['SWB_1'] == 6]['LMscore'].mean()\n",
    "lm_score_7 = data.loc[data['SWB_1'] == 7]['LMscore'].mean()\n",
    "lm_scores = [lm_score_1, lm_score_2, lm_score_3, lm_score_5, lm_score_6, lm_score_7]\n",
    "print(lm_scores)"
   ]
  },
  {
   "cell_type": "markdown",
   "metadata": {},
   "source": [
    "### Financial Well-Being and Skill Score Comparison"
   ]
  },
  {
   "cell_type": "code",
   "execution_count": 120,
   "metadata": {},
   "outputs": [
    {
     "data": {
      "image/png": "[encoded data removed]",
      "text/plain": [
       "<Figure size 1080x720 with 1 Axes>"
      ]
     },
     "metadata": {
      "needs_background": "light"
     },
     "output_type": "display_data"
    }
   ],
   "source": [
    "labels = ['Strongly Unsatisfied', 'Unsatisfied', 'Slightly Unsatisfied', 'Slightly Satisfied', \n",
    "          'Satisfied', 'Strongly Satisfied']\n",
    "\n",
    "# x = fwb_scores, fs_scores\n",
    "\n",
    "x = np.arange(len(labels))  # the label locations\n",
    "width = 0.35  # the width of the bars\n",
    "\n",
    "fig2, ax = plt.subplots(figsize=(15,10))\n",
    "rects1 = ax.bar(x - width/2, fwb_scores, width, label='Financial Well-Being', color='skyblue')\n",
    "rects2 = ax.bar(x + width/2, fs_scores, width, label='Financial Skill', color='gray')\n",
    "\n",
    "# Add some text for labels, title and custom x-axis tick labels, etc.\n",
    "ax.set_ylabel('Average Scores\\n', fontsize=15)\n",
    "ax.set_title('Average Scores by Life Satisfaction', fontsize=25)\n",
    "ax.set_xticks(x)\n",
    "ax.set_xticklabels(labels, fontsize=12)\n",
    "ax.legend(fontsize=15)\n",
    "ax.set_facecolor('whitesmoke')\n",
    "plt.grid(color='slategrey', linestyle='--', axis='y')\n",
    "\n",
    "plt.show()"
   ]
  },
  {
   "cell_type": "markdown",
   "metadata": {},
   "source": [
    "### Lusardi and Mitchell Financial Literacy Comparison"
   ]
  },
  {
   "cell_type": "code",
   "execution_count": 126,
   "metadata": {},
   "outputs": [
    {
     "data": {
      "image/png": "[encoded data removed]",
      "text/plain": [
       "<Figure size 1080x864 with 1 Axes>"
      ]
     },
     "metadata": {
      "needs_background": "light"
     },
     "output_type": "display_data"
    }
   ],
   "source": [
    "labels = ['Strongly Unsatisfied', 'Unsatisfied', 'Slightly Unsatisfied', 'Slightly Satisfied', \n",
    "          'Satisfied', 'Strongly Satisfied']\n",
    "# lm_scores\n",
    "fig3, ax = plt.subplots(figsize=(15, 12))\n",
    "\n",
    "ax.set_title(\"Lusardi and Mitchell Financial Literacy Score\")\n",
    "plt.barh(labels, lm_scores, color='skyblue')\n",
    "plt.grid(color='slategrey', linestyle='--', axis='x')\n",
    "\n",
    "for i, j in enumerate(lm_scores):\n",
    "    plt.text(j,i, str(round(j, 2)))\n",
    "    \n",
    "plt.show()"
   ]
  },
  {
   "cell_type": "code",
   "execution_count": null,
   "metadata": {},
   "outputs": [],
   "source": []
  }
 ],
 "metadata": {
  "kernelspec": {
   "display_name": "Python 3",
   "language": "python",
   "name": "python3"
  },
  "language_info": {
   "codemirror_mode": {
    "name": "ipython",
    "version": 3
   },
   "file_extension": ".py",
   "mimetype": "text/x-python",
   "name": "python",
   "nbconvert_exporter": "python",
   "pygments_lexer": "ipython3",
   "version": "3.8.5"
  }
 },
 "nbformat": 4,
 "nbformat_minor": 4
}
